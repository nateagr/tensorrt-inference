{
 "cells": [
  {
   "cell_type": "code",
   "execution_count": null,
   "id": "bd874d68-23b0-4b94-a56e-e3bb34f2941a",
   "metadata": {
    "ExecuteTime": {
     "end_time": "2023-04-13T05:58:08.137122Z",
     "start_time": "2023-04-13T05:58:06.555373Z"
    }
   },
   "outputs": [],
   "source": [
    "import os\n",
    "import getpass\n",
    "\n",
    "from transformers import AutoTokenizer\n",
    "\n",
    "from tensorrt_inference.deberta.model import DebertaV2Model\n",
    "from tensorrt_inference.deberta.onnx import convert_to_onnx\n",
    "from tensorrt_inference.deberta.backend import build_engine, TRTModel"
   ]
  },
  {
   "cell_type": "markdown",
   "id": "ac54657b",
   "metadata": {},
   "source": [
    "## Load original model"
   ]
  },
  {
   "cell_type": "code",
   "execution_count": null,
   "id": "8f4dccf3",
   "metadata": {},
   "outputs": [],
   "source": [
    "model_name == 'microsoft/mdeberta-v3-base':\n",
    "model = DebertaV2Model.from_pretrained(model_name)\n",
    "tokenizer = AutoTokenizer.from_pretrained(model_name)  "
   ]
  },
  {
   "cell_type": "markdown",
   "id": "f83c2c5a",
   "metadata": {},
   "source": [
    "## Convert to ONNX"
   ]
  },
  {
   "cell_type": "code",
   "execution_count": null,
   "id": "8e17807d",
   "metadata": {},
   "outputs": [],
   "source": [
    "batch_size = 512"
   ]
  },
  {
   "cell_type": "code",
   "execution_count": null,
   "id": "6d61314c",
   "metadata": {},
   "outputs": [],
   "source": [
    "onnx_model_filename = os.path.join(\"/home\", getpass.getuser(), \"mdeberta.onnx\")"
   ]
  },
  {
   "cell_type": "code",
   "execution_count": null,
   "id": "ad38e896",
   "metadata": {},
   "outputs": [],
   "source": [
    "convert_to_onnx(\n",
    "    output_file=onnx_model_filename,\n",
    "    model=model,\n",
    "    seq_len=77,\n",
    "    batch_size=batch_size\n",
    ")"
   ]
  },
  {
   "cell_type": "markdown",
   "id": "eede1bab",
   "metadata": {},
   "source": [
    "## Convert to TensorRT"
   ]
  },
  {
   "cell_type": "code",
   "execution_count": null,
   "id": "45abee04",
   "metadata": {},
   "outputs": [],
   "source": [
    "trt_model_filename = os.path.join(\"/home\", getpass.getuser(), \"trt_mdeberta\")"
   ]
  },
  {
   "cell_type": "code",
   "execution_count": null,
   "id": "d6f29bef",
   "metadata": {},
   "outputs": [],
   "source": [
    "build_engine(\n",
    "    output_trt_model_file=trt_model_filename,\n",
    "    onnx_model_file=onnx_model_filename,\n",
    "    min_batch_size=batch_size,\n",
    "    optimal_batch_size=batch_size,\n",
    "    max_batch_size=batch_size,\n",
    "    precision=\"fp16\",\n",
    "    log_level=trt.Logger.INFO\n",
    ")"
   ]
  },
  {
   "cell_type": "markdown",
   "id": "44e1b40e",
   "metadata": {},
   "source": [
    "## Run inference"
   ]
  },
  {
   "cell_type": "markdown",
   "id": "efd75980",
   "metadata": {},
   "source": [
    "### Dataset"
   ]
  },
  {
   "cell_type": "code",
   "execution_count": null,
   "id": "557f8c5a",
   "metadata": {},
   "outputs": [],
   "source": [
    "fs = fsspec.filesystem('hdfs')\n",
    "with fs.open('/user/g.racic/golden_test_set_sampled.csv', 'r') as f:\n",
    "    df = pd.read_csv(f)"
   ]
  },
  {
   "cell_type": "code",
   "execution_count": null,
   "id": "b6a15829",
   "metadata": {},
   "outputs": [],
   "source": [
    "class TextDataset(Dataset):\n",
    "    \n",
    "    def __init__(self, df, tokenizer):\n",
    "        self.df = df\n",
    "        self.tokenizer = tokenizer\n",
    "        \n",
    "    def __len__(self):\n",
    "        return self.df.shape[0]\n",
    "    \n",
    "    def __getitem__(self, index):\n",
    "        row = self.df.iloc[index]\n",
    "        text = str(row.title) + ' ' + str(row.description) if row.description else str(row.title)\n",
    "        txt_tokens = self.tokenizer(text, padding=\"max_length\", truncation=True, max_length=77, return_tensors=\"pt\")\n",
    "        input_ids = txt_tokens[\"input_ids\"]\n",
    "        attention_mask = txt_tokens[\"attention_mask\"]\n",
    "        return {\n",
    "            'input_ids': input_ids,\n",
    "            'att_mask': attention_mask,\n",
    "        }"
   ]
  },
  {
   "cell_type": "markdown",
   "id": "fe151aeb",
   "metadata": {},
   "source": [
    "### Inference"
   ]
  },
  {
   "cell_type": "code",
   "execution_count": null,
   "id": "d1e376aa",
   "metadata": {},
   "outputs": [],
   "source": [
    "trt_model = TRTModel(trt_model_filename)"
   ]
  },
  {
   "cell_type": "code",
   "execution_count": null,
   "id": "4ae5827e",
   "metadata": {},
   "outputs": [],
   "source": [
    "timings = []\n",
    "batch_size = 512\n",
    "nb_warmup_batches = 10\n",
    "dataset = TextDataset(df, tokenizer)\n",
    "dataloader = DataLoader(dataset, batch_size=batch_size, shuffle=False, num_workers=8)\n",
    "starter, ender = torch.cuda.Event(enable_timing=True), torch.cuda.Event(enable_timing=True)\n",
    "for i, data in enumerate(tqdm(dataloader, total=df.shape[0]//batch_size+1)):\n",
    "    \n",
    "    inputs = [data['input_ids'].squeeze().to(\"cuda\"), data['att_mask'].squeeze().to(\"cuda\")]\n",
    "    if i <= nb_warmup_batches:\n",
    "        starter.record()\n",
    "        outputs = trt_model(inputs)\n",
    "        ender.record()\n",
    "        torch.cuda.synchronize()\n",
    "    else:\n",
    "        starter.record()\n",
    "        outputs = trt_model(inputs)\n",
    "        ender.record()\n",
    "        torch.cuda.synchronize()\n",
    "        inf_time = starter.elapsed_time(ender)\n",
    "        timings.append(inf_time)"
   ]
  },
  {
   "cell_type": "code",
   "execution_count": null,
   "id": "777a35d8",
   "metadata": {},
   "outputs": [],
   "source": [
    "print(f\"Average inference time {np.mean(timings[:-1]):.2f}+/-{np.std(timings[:-1]):.2f} ms\")\n",
    "print(f\"Throughput: {(df.shape[0]-(nb_warmup_batches*batch_size))*1000/np.sum(timings):.2f} samples per second\")"
   ]
  },
  {
   "cell_type": "code",
   "execution_count": null,
   "id": "c15cf667",
   "metadata": {},
   "outputs": [],
   "source": []
  }
 ],
 "metadata": {
  "hide_input": false,
  "kernelspec": {
   "display_name": "tensorrt_env39_2",
   "language": "python",
   "name": "tensorrt_env39_2"
  },
  "language_info": {
   "codemirror_mode": {
    "name": "ipython",
    "version": 3
   },
   "file_extension": ".py",
   "mimetype": "text/x-python",
   "name": "python",
   "nbconvert_exporter": "python",
   "pygments_lexer": "ipython3",
   "version": "3.9.12"
  },
  "toc": {
   "base_numbering": 1,
   "nav_menu": {},
   "number_sections": true,
   "sideBar": true,
   "skip_h1_title": false,
   "title_cell": "Table of Contents",
   "title_sidebar": "Contents",
   "toc_cell": false,
   "toc_position": {},
   "toc_section_display": true,
   "toc_window_display": false
  }
 },
 "nbformat": 4,
 "nbformat_minor": 5
}
