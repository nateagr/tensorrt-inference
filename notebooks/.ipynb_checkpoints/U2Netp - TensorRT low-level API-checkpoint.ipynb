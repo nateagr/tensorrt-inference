{
 "cells": [
  {
   "cell_type": "code",
   "execution_count": 1,
   "id": "01cd4473",
   "metadata": {
    "ExecuteTime": {
     "end_time": "2022-01-18T07:01:24.072978Z",
     "start_time": "2022-01-18T07:01:23.330379Z"
    }
   },
   "outputs": [],
   "source": [
    "import onnx\n",
    "from onnxruntime.transformers.fusion_options import FusionOptions\n",
    "from onnxruntime.transformers import optimizer\n",
    "from onnxruntime import InferenceSession\n",
    "from onnx import shape_inference"
   ]
  },
  {
   "cell_type": "code",
   "execution_count": 2,
   "id": "2bb5c5bb",
   "metadata": {
    "ExecuteTime": {
     "end_time": "2022-01-18T07:01:26.425002Z",
     "start_time": "2022-01-18T07:01:24.074319Z"
    }
   },
   "outputs": [],
   "source": [
    "import os\n",
    "from typing import Dict\n",
    "import json\n",
    "import time\n",
    "import itertools\n",
    "\n",
    "from torchvision import transforms\n",
    "\n",
    "from PIL import Image\n",
    "\n",
    "import torch\n",
    "import tensorrt as trt\n",
    "\n",
    "import numpy as np\n",
    "\n",
    "import transformers\n",
    "\n",
    "from tensorrt_inference.backend import (\n",
    "    build_engine, save_engine, load_engine\n",
    ")\n",
    "\n",
    "import torch_tensorrt\n",
    "import pycuda.driver as cuda"
   ]
  },
  {
   "cell_type": "code",
   "execution_count": 3,
   "id": "00ffb5f1",
   "metadata": {
    "ExecuteTime": {
     "end_time": "2022-01-18T07:01:30.151906Z",
     "start_time": "2022-01-18T07:01:26.426586Z"
    }
   },
   "outputs": [
    {
     "data": {
      "text/plain": [
       "RecursiveScriptModule(\n",
       "  original_name=U2NETP\n",
       "  (stage1): RecursiveScriptModule(\n",
       "    original_name=RSU7\n",
       "    (rebnconvin): RecursiveScriptModule(\n",
       "      original_name=REBNCONV\n",
       "      (conv_s1): RecursiveScriptModule(original_name=Conv2d)\n",
       "      (bn_s1): RecursiveScriptModule(original_name=BatchNorm2d)\n",
       "      (relu_s1): RecursiveScriptModule(original_name=ReLU)\n",
       "    )\n",
       "    (rebnconv1): RecursiveScriptModule(\n",
       "      original_name=REBNCONV\n",
       "      (conv_s1): RecursiveScriptModule(original_name=Conv2d)\n",
       "      (bn_s1): RecursiveScriptModule(original_name=BatchNorm2d)\n",
       "      (relu_s1): RecursiveScriptModule(original_name=ReLU)\n",
       "    )\n",
       "    (pool1): RecursiveScriptModule(original_name=MaxPool2d)\n",
       "    (rebnconv2): RecursiveScriptModule(\n",
       "      original_name=REBNCONV\n",
       "      (conv_s1): RecursiveScriptModule(original_name=Conv2d)\n",
       "      (bn_s1): RecursiveScriptModule(original_name=BatchNorm2d)\n",
       "      (relu_s1): RecursiveScriptModule(original_name=ReLU)\n",
       "    )\n",
       "    (pool2): RecursiveScriptModule(original_name=MaxPool2d)\n",
       "    (rebnconv3): RecursiveScriptModule(\n",
       "      original_name=REBNCONV\n",
       "      (conv_s1): RecursiveScriptModule(original_name=Conv2d)\n",
       "      (bn_s1): RecursiveScriptModule(original_name=BatchNorm2d)\n",
       "      (relu_s1): RecursiveScriptModule(original_name=ReLU)\n",
       "    )\n",
       "    (pool3): RecursiveScriptModule(original_name=MaxPool2d)\n",
       "    (rebnconv4): RecursiveScriptModule(\n",
       "      original_name=REBNCONV\n",
       "      (conv_s1): RecursiveScriptModule(original_name=Conv2d)\n",
       "      (bn_s1): RecursiveScriptModule(original_name=BatchNorm2d)\n",
       "      (relu_s1): RecursiveScriptModule(original_name=ReLU)\n",
       "    )\n",
       "    (pool4): RecursiveScriptModule(original_name=MaxPool2d)\n",
       "    (rebnconv5): RecursiveScriptModule(\n",
       "      original_name=REBNCONV\n",
       "      (conv_s1): RecursiveScriptModule(original_name=Conv2d)\n",
       "      (bn_s1): RecursiveScriptModule(original_name=BatchNorm2d)\n",
       "      (relu_s1): RecursiveScriptModule(original_name=ReLU)\n",
       "    )\n",
       "    (pool5): RecursiveScriptModule(original_name=MaxPool2d)\n",
       "    (rebnconv6): RecursiveScriptModule(\n",
       "      original_name=REBNCONV\n",
       "      (conv_s1): RecursiveScriptModule(original_name=Conv2d)\n",
       "      (bn_s1): RecursiveScriptModule(original_name=BatchNorm2d)\n",
       "      (relu_s1): RecursiveScriptModule(original_name=ReLU)\n",
       "    )\n",
       "    (rebnconv7): RecursiveScriptModule(\n",
       "      original_name=REBNCONV\n",
       "      (conv_s1): RecursiveScriptModule(original_name=Conv2d)\n",
       "      (bn_s1): RecursiveScriptModule(original_name=BatchNorm2d)\n",
       "      (relu_s1): RecursiveScriptModule(original_name=ReLU)\n",
       "    )\n",
       "    (rebnconv6d): RecursiveScriptModule(\n",
       "      original_name=REBNCONV\n",
       "      (conv_s1): RecursiveScriptModule(original_name=Conv2d)\n",
       "      (bn_s1): RecursiveScriptModule(original_name=BatchNorm2d)\n",
       "      (relu_s1): RecursiveScriptModule(original_name=ReLU)\n",
       "    )\n",
       "    (rebnconv5d): RecursiveScriptModule(\n",
       "      original_name=REBNCONV\n",
       "      (conv_s1): RecursiveScriptModule(original_name=Conv2d)\n",
       "      (bn_s1): RecursiveScriptModule(original_name=BatchNorm2d)\n",
       "      (relu_s1): RecursiveScriptModule(original_name=ReLU)\n",
       "    )\n",
       "    (rebnconv4d): RecursiveScriptModule(\n",
       "      original_name=REBNCONV\n",
       "      (conv_s1): RecursiveScriptModule(original_name=Conv2d)\n",
       "      (bn_s1): RecursiveScriptModule(original_name=BatchNorm2d)\n",
       "      (relu_s1): RecursiveScriptModule(original_name=ReLU)\n",
       "    )\n",
       "    (rebnconv3d): RecursiveScriptModule(\n",
       "      original_name=REBNCONV\n",
       "      (conv_s1): RecursiveScriptModule(original_name=Conv2d)\n",
       "      (bn_s1): RecursiveScriptModule(original_name=BatchNorm2d)\n",
       "      (relu_s1): RecursiveScriptModule(original_name=ReLU)\n",
       "    )\n",
       "    (rebnconv2d): RecursiveScriptModule(\n",
       "      original_name=REBNCONV\n",
       "      (conv_s1): RecursiveScriptModule(original_name=Conv2d)\n",
       "      (bn_s1): RecursiveScriptModule(original_name=BatchNorm2d)\n",
       "      (relu_s1): RecursiveScriptModule(original_name=ReLU)\n",
       "    )\n",
       "    (rebnconv1d): RecursiveScriptModule(\n",
       "      original_name=REBNCONV\n",
       "      (conv_s1): RecursiveScriptModule(original_name=Conv2d)\n",
       "      (bn_s1): RecursiveScriptModule(original_name=BatchNorm2d)\n",
       "      (relu_s1): RecursiveScriptModule(original_name=ReLU)\n",
       "    )\n",
       "    (upscore2): RecursiveScriptModule(original_name=Upsample)\n",
       "  )\n",
       "  (pool12): RecursiveScriptModule(original_name=MaxPool2d)\n",
       "  (stage2): RecursiveScriptModule(\n",
       "    original_name=RSU6\n",
       "    (rebnconvin): RecursiveScriptModule(\n",
       "      original_name=REBNCONV\n",
       "      (conv_s1): RecursiveScriptModule(original_name=Conv2d)\n",
       "      (bn_s1): RecursiveScriptModule(original_name=BatchNorm2d)\n",
       "      (relu_s1): RecursiveScriptModule(original_name=ReLU)\n",
       "    )\n",
       "    (rebnconv1): RecursiveScriptModule(\n",
       "      original_name=REBNCONV\n",
       "      (conv_s1): RecursiveScriptModule(original_name=Conv2d)\n",
       "      (bn_s1): RecursiveScriptModule(original_name=BatchNorm2d)\n",
       "      (relu_s1): RecursiveScriptModule(original_name=ReLU)\n",
       "    )\n",
       "    (pool1): RecursiveScriptModule(original_name=MaxPool2d)\n",
       "    (rebnconv2): RecursiveScriptModule(\n",
       "      original_name=REBNCONV\n",
       "      (conv_s1): RecursiveScriptModule(original_name=Conv2d)\n",
       "      (bn_s1): RecursiveScriptModule(original_name=BatchNorm2d)\n",
       "      (relu_s1): RecursiveScriptModule(original_name=ReLU)\n",
       "    )\n",
       "    (pool2): RecursiveScriptModule(original_name=MaxPool2d)\n",
       "    (rebnconv3): RecursiveScriptModule(\n",
       "      original_name=REBNCONV\n",
       "      (conv_s1): RecursiveScriptModule(original_name=Conv2d)\n",
       "      (bn_s1): RecursiveScriptModule(original_name=BatchNorm2d)\n",
       "      (relu_s1): RecursiveScriptModule(original_name=ReLU)\n",
       "    )\n",
       "    (pool3): RecursiveScriptModule(original_name=MaxPool2d)\n",
       "    (rebnconv4): RecursiveScriptModule(\n",
       "      original_name=REBNCONV\n",
       "      (conv_s1): RecursiveScriptModule(original_name=Conv2d)\n",
       "      (bn_s1): RecursiveScriptModule(original_name=BatchNorm2d)\n",
       "      (relu_s1): RecursiveScriptModule(original_name=ReLU)\n",
       "    )\n",
       "    (pool4): RecursiveScriptModule(original_name=MaxPool2d)\n",
       "    (rebnconv5): RecursiveScriptModule(\n",
       "      original_name=REBNCONV\n",
       "      (conv_s1): RecursiveScriptModule(original_name=Conv2d)\n",
       "      (bn_s1): RecursiveScriptModule(original_name=BatchNorm2d)\n",
       "      (relu_s1): RecursiveScriptModule(original_name=ReLU)\n",
       "    )\n",
       "    (rebnconv6): RecursiveScriptModule(\n",
       "      original_name=REBNCONV\n",
       "      (conv_s1): RecursiveScriptModule(original_name=Conv2d)\n",
       "      (bn_s1): RecursiveScriptModule(original_name=BatchNorm2d)\n",
       "      (relu_s1): RecursiveScriptModule(original_name=ReLU)\n",
       "    )\n",
       "    (rebnconv5d): RecursiveScriptModule(\n",
       "      original_name=REBNCONV\n",
       "      (conv_s1): RecursiveScriptModule(original_name=Conv2d)\n",
       "      (bn_s1): RecursiveScriptModule(original_name=BatchNorm2d)\n",
       "      (relu_s1): RecursiveScriptModule(original_name=ReLU)\n",
       "    )\n",
       "    (rebnconv4d): RecursiveScriptModule(\n",
       "      original_name=REBNCONV\n",
       "      (conv_s1): RecursiveScriptModule(original_name=Conv2d)\n",
       "      (bn_s1): RecursiveScriptModule(original_name=BatchNorm2d)\n",
       "      (relu_s1): RecursiveScriptModule(original_name=ReLU)\n",
       "    )\n",
       "    (rebnconv3d): RecursiveScriptModule(\n",
       "      original_name=REBNCONV\n",
       "      (conv_s1): RecursiveScriptModule(original_name=Conv2d)\n",
       "      (bn_s1): RecursiveScriptModule(original_name=BatchNorm2d)\n",
       "      (relu_s1): RecursiveScriptModule(original_name=ReLU)\n",
       "    )\n",
       "    (rebnconv2d): RecursiveScriptModule(\n",
       "      original_name=REBNCONV\n",
       "      (conv_s1): RecursiveScriptModule(original_name=Conv2d)\n",
       "      (bn_s1): RecursiveScriptModule(original_name=BatchNorm2d)\n",
       "      (relu_s1): RecursiveScriptModule(original_name=ReLU)\n",
       "    )\n",
       "    (rebnconv1d): RecursiveScriptModule(\n",
       "      original_name=REBNCONV\n",
       "      (conv_s1): RecursiveScriptModule(original_name=Conv2d)\n",
       "      (bn_s1): RecursiveScriptModule(original_name=BatchNorm2d)\n",
       "      (relu_s1): RecursiveScriptModule(original_name=ReLU)\n",
       "    )\n",
       "    (upscore2): RecursiveScriptModule(original_name=Upsample)\n",
       "  )\n",
       "  (pool23): RecursiveScriptModule(original_name=MaxPool2d)\n",
       "  (stage3): RecursiveScriptModule(\n",
       "    original_name=RSU5\n",
       "    (rebnconvin): RecursiveScriptModule(\n",
       "      original_name=REBNCONV\n",
       "      (conv_s1): RecursiveScriptModule(original_name=Conv2d)\n",
       "      (bn_s1): RecursiveScriptModule(original_name=BatchNorm2d)\n",
       "      (relu_s1): RecursiveScriptModule(original_name=ReLU)\n",
       "    )\n",
       "    (rebnconv1): RecursiveScriptModule(\n",
       "      original_name=REBNCONV\n",
       "      (conv_s1): RecursiveScriptModule(original_name=Conv2d)\n",
       "      (bn_s1): RecursiveScriptModule(original_name=BatchNorm2d)\n",
       "      (relu_s1): RecursiveScriptModule(original_name=ReLU)\n",
       "    )\n",
       "    (pool1): RecursiveScriptModule(original_name=MaxPool2d)\n",
       "    (rebnconv2): RecursiveScriptModule(\n",
       "      original_name=REBNCONV\n",
       "      (conv_s1): RecursiveScriptModule(original_name=Conv2d)\n",
       "      (bn_s1): RecursiveScriptModule(original_name=BatchNorm2d)\n",
       "      (relu_s1): RecursiveScriptModule(original_name=ReLU)\n",
       "    )\n",
       "    (pool2): RecursiveScriptModule(original_name=MaxPool2d)\n",
       "    (rebnconv3): RecursiveScriptModule(\n",
       "      original_name=REBNCONV\n",
       "      (conv_s1): RecursiveScriptModule(original_name=Conv2d)\n",
       "      (bn_s1): RecursiveScriptModule(original_name=BatchNorm2d)\n",
       "      (relu_s1): RecursiveScriptModule(original_name=ReLU)\n",
       "    )\n",
       "    (pool3): RecursiveScriptModule(original_name=MaxPool2d)\n",
       "    (rebnconv4): RecursiveScriptModule(\n",
       "      original_name=REBNCONV\n",
       "      (conv_s1): RecursiveScriptModule(original_name=Conv2d)\n",
       "      (bn_s1): RecursiveScriptModule(original_name=BatchNorm2d)\n",
       "      (relu_s1): RecursiveScriptModule(original_name=ReLU)\n",
       "    )\n",
       "    (rebnconv5): RecursiveScriptModule(\n",
       "      original_name=REBNCONV\n",
       "      (conv_s1): RecursiveScriptModule(original_name=Conv2d)\n",
       "      (bn_s1): RecursiveScriptModule(original_name=BatchNorm2d)\n",
       "      (relu_s1): RecursiveScriptModule(original_name=ReLU)\n",
       "    )\n",
       "    (rebnconv4d): RecursiveScriptModule(\n",
       "      original_name=REBNCONV\n",
       "      (conv_s1): RecursiveScriptModule(original_name=Conv2d)\n",
       "      (bn_s1): RecursiveScriptModule(original_name=BatchNorm2d)\n",
       "      (relu_s1): RecursiveScriptModule(original_name=ReLU)\n",
       "    )\n",
       "    (rebnconv3d): RecursiveScriptModule(\n",
       "      original_name=REBNCONV\n",
       "      (conv_s1): RecursiveScriptModule(original_name=Conv2d)\n",
       "      (bn_s1): RecursiveScriptModule(original_name=BatchNorm2d)\n",
       "      (relu_s1): RecursiveScriptModule(original_name=ReLU)\n",
       "    )\n",
       "    (rebnconv2d): RecursiveScriptModule(\n",
       "      original_name=REBNCONV\n",
       "      (conv_s1): RecursiveScriptModule(original_name=Conv2d)\n",
       "      (bn_s1): RecursiveScriptModule(original_name=BatchNorm2d)\n",
       "      (relu_s1): RecursiveScriptModule(original_name=ReLU)\n",
       "    )\n",
       "    (rebnconv1d): RecursiveScriptModule(\n",
       "      original_name=REBNCONV\n",
       "      (conv_s1): RecursiveScriptModule(original_name=Conv2d)\n",
       "      (bn_s1): RecursiveScriptModule(original_name=BatchNorm2d)\n",
       "      (relu_s1): RecursiveScriptModule(original_name=ReLU)\n",
       "    )\n",
       "    (upscore2): RecursiveScriptModule(original_name=Upsample)\n",
       "  )\n",
       "  (pool34): RecursiveScriptModule(original_name=MaxPool2d)\n",
       "  (stage4): RecursiveScriptModule(\n",
       "    original_name=RSU4\n",
       "    (rebnconvin): RecursiveScriptModule(\n",
       "      original_name=REBNCONV\n",
       "      (conv_s1): RecursiveScriptModule(original_name=Conv2d)\n",
       "      (bn_s1): RecursiveScriptModule(original_name=BatchNorm2d)\n",
       "      (relu_s1): RecursiveScriptModule(original_name=ReLU)\n",
       "    )\n",
       "    (rebnconv1): RecursiveScriptModule(\n",
       "      original_name=REBNCONV\n",
       "      (conv_s1): RecursiveScriptModule(original_name=Conv2d)\n",
       "      (bn_s1): RecursiveScriptModule(original_name=BatchNorm2d)\n",
       "      (relu_s1): RecursiveScriptModule(original_name=ReLU)\n",
       "    )\n",
       "    (pool1): RecursiveScriptModule(original_name=MaxPool2d)\n",
       "    (rebnconv2): RecursiveScriptModule(\n",
       "      original_name=REBNCONV\n",
       "      (conv_s1): RecursiveScriptModule(original_name=Conv2d)\n",
       "      (bn_s1): RecursiveScriptModule(original_name=BatchNorm2d)\n",
       "      (relu_s1): RecursiveScriptModule(original_name=ReLU)\n",
       "    )\n",
       "    (pool2): RecursiveScriptModule(original_name=MaxPool2d)\n",
       "    (rebnconv3): RecursiveScriptModule(\n",
       "      original_name=REBNCONV\n",
       "      (conv_s1): RecursiveScriptModule(original_name=Conv2d)\n",
       "      (bn_s1): RecursiveScriptModule(original_name=BatchNorm2d)\n",
       "      (relu_s1): RecursiveScriptModule(original_name=ReLU)\n",
       "    )\n",
       "    (rebnconv4): RecursiveScriptModule(\n",
       "      original_name=REBNCONV\n",
       "      (conv_s1): RecursiveScriptModule(original_name=Conv2d)\n",
       "      (bn_s1): RecursiveScriptModule(original_name=BatchNorm2d)\n",
       "      (relu_s1): RecursiveScriptModule(original_name=ReLU)\n",
       "    )\n",
       "    (rebnconv3d): RecursiveScriptModule(\n",
       "      original_name=REBNCONV\n",
       "      (conv_s1): RecursiveScriptModule(original_name=Conv2d)\n",
       "      (bn_s1): RecursiveScriptModule(original_name=BatchNorm2d)\n",
       "      (relu_s1): RecursiveScriptModule(original_name=ReLU)\n",
       "    )\n",
       "    (rebnconv2d): RecursiveScriptModule(\n",
       "      original_name=REBNCONV\n",
       "      (conv_s1): RecursiveScriptModule(original_name=Conv2d)\n",
       "      (bn_s1): RecursiveScriptModule(original_name=BatchNorm2d)\n",
       "      (relu_s1): RecursiveScriptModule(original_name=ReLU)\n",
       "    )\n",
       "    (rebnconv1d): RecursiveScriptModule(\n",
       "      original_name=REBNCONV\n",
       "      (conv_s1): RecursiveScriptModule(original_name=Conv2d)\n",
       "      (bn_s1): RecursiveScriptModule(original_name=BatchNorm2d)\n",
       "      (relu_s1): RecursiveScriptModule(original_name=ReLU)\n",
       "    )\n",
       "    (upscore2): RecursiveScriptModule(original_name=Upsample)\n",
       "  )\n",
       "  (pool45): RecursiveScriptModule(original_name=MaxPool2d)\n",
       "  (stage5): RecursiveScriptModule(\n",
       "    original_name=RSU4F\n",
       "    (rebnconvin): RecursiveScriptModule(\n",
       "      original_name=REBNCONV\n",
       "      (conv_s1): RecursiveScriptModule(original_name=Conv2d)\n",
       "      (bn_s1): RecursiveScriptModule(original_name=BatchNorm2d)\n",
       "      (relu_s1): RecursiveScriptModule(original_name=ReLU)\n",
       "    )\n",
       "    (rebnconv1): RecursiveScriptModule(\n",
       "      original_name=REBNCONV\n",
       "      (conv_s1): RecursiveScriptModule(original_name=Conv2d)\n",
       "      (bn_s1): RecursiveScriptModule(original_name=BatchNorm2d)\n",
       "      (relu_s1): RecursiveScriptModule(original_name=ReLU)\n",
       "    )\n",
       "    (rebnconv2): RecursiveScriptModule(\n",
       "      original_name=REBNCONV\n",
       "      (conv_s1): RecursiveScriptModule(original_name=Conv2d)\n",
       "      (bn_s1): RecursiveScriptModule(original_name=BatchNorm2d)\n",
       "      (relu_s1): RecursiveScriptModule(original_name=ReLU)\n",
       "    )\n",
       "    (rebnconv3): RecursiveScriptModule(\n",
       "      original_name=REBNCONV\n",
       "      (conv_s1): RecursiveScriptModule(original_name=Conv2d)\n",
       "      (bn_s1): RecursiveScriptModule(original_name=BatchNorm2d)\n",
       "      (relu_s1): RecursiveScriptModule(original_name=ReLU)\n",
       "    )\n",
       "    (rebnconv4): RecursiveScriptModule(\n",
       "      original_name=REBNCONV\n",
       "      (conv_s1): RecursiveScriptModule(original_name=Conv2d)\n",
       "      (bn_s1): RecursiveScriptModule(original_name=BatchNorm2d)\n",
       "      (relu_s1): RecursiveScriptModule(original_name=ReLU)\n",
       "    )\n",
       "    (rebnconv3d): RecursiveScriptModule(\n",
       "      original_name=REBNCONV\n",
       "      (conv_s1): RecursiveScriptModule(original_name=Conv2d)\n",
       "      (bn_s1): RecursiveScriptModule(original_name=BatchNorm2d)\n",
       "      (relu_s1): RecursiveScriptModule(original_name=ReLU)\n",
       "    )\n",
       "    (rebnconv2d): RecursiveScriptModule(\n",
       "      original_name=REBNCONV\n",
       "      (conv_s1): RecursiveScriptModule(original_name=Conv2d)\n",
       "      (bn_s1): RecursiveScriptModule(original_name=BatchNorm2d)\n",
       "      (relu_s1): RecursiveScriptModule(original_name=ReLU)\n",
       "    )\n",
       "    (rebnconv1d): RecursiveScriptModule(\n",
       "      original_name=REBNCONV\n",
       "      (conv_s1): RecursiveScriptModule(original_name=Conv2d)\n",
       "      (bn_s1): RecursiveScriptModule(original_name=BatchNorm2d)\n",
       "      (relu_s1): RecursiveScriptModule(original_name=ReLU)\n",
       "    )\n",
       "  )\n",
       "  (pool56): RecursiveScriptModule(original_name=MaxPool2d)\n",
       "  (stage6): RecursiveScriptModule(\n",
       "    original_name=RSU4F\n",
       "    (rebnconvin): RecursiveScriptModule(\n",
       "      original_name=REBNCONV\n",
       "      (conv_s1): RecursiveScriptModule(original_name=Conv2d)\n",
       "      (bn_s1): RecursiveScriptModule(original_name=BatchNorm2d)\n",
       "      (relu_s1): RecursiveScriptModule(original_name=ReLU)\n",
       "    )\n",
       "    (rebnconv1): RecursiveScriptModule(\n",
       "      original_name=REBNCONV\n",
       "      (conv_s1): RecursiveScriptModule(original_name=Conv2d)\n",
       "      (bn_s1): RecursiveScriptModule(original_name=BatchNorm2d)\n",
       "      (relu_s1): RecursiveScriptModule(original_name=ReLU)\n",
       "    )\n",
       "    (rebnconv2): RecursiveScriptModule(\n",
       "      original_name=REBNCONV\n",
       "      (conv_s1): RecursiveScriptModule(original_name=Conv2d)\n",
       "      (bn_s1): RecursiveScriptModule(original_name=BatchNorm2d)\n",
       "      (relu_s1): RecursiveScriptModule(original_name=ReLU)\n",
       "    )\n",
       "    (rebnconv3): RecursiveScriptModule(\n",
       "      original_name=REBNCONV\n",
       "      (conv_s1): RecursiveScriptModule(original_name=Conv2d)\n",
       "      (bn_s1): RecursiveScriptModule(original_name=BatchNorm2d)\n",
       "      (relu_s1): RecursiveScriptModule(original_name=ReLU)\n",
       "    )\n",
       "    (rebnconv4): RecursiveScriptModule(\n",
       "      original_name=REBNCONV\n",
       "      (conv_s1): RecursiveScriptModule(original_name=Conv2d)\n",
       "      (bn_s1): RecursiveScriptModule(original_name=BatchNorm2d)\n",
       "      (relu_s1): RecursiveScriptModule(original_name=ReLU)\n",
       "    )\n",
       "    (rebnconv3d): RecursiveScriptModule(\n",
       "      original_name=REBNCONV\n",
       "      (conv_s1): RecursiveScriptModule(original_name=Conv2d)\n",
       "      (bn_s1): RecursiveScriptModule(original_name=BatchNorm2d)\n",
       "      (relu_s1): RecursiveScriptModule(original_name=ReLU)\n",
       "    )\n",
       "    (rebnconv2d): RecursiveScriptModule(\n",
       "      original_name=REBNCONV\n",
       "      (conv_s1): RecursiveScriptModule(original_name=Conv2d)\n",
       "      (bn_s1): RecursiveScriptModule(original_name=BatchNorm2d)\n",
       "      (relu_s1): RecursiveScriptModule(original_name=ReLU)\n",
       "    )\n",
       "    (rebnconv1d): RecursiveScriptModule(\n",
       "      original_name=REBNCONV\n",
       "      (conv_s1): RecursiveScriptModule(original_name=Conv2d)\n",
       "      (bn_s1): RecursiveScriptModule(original_name=BatchNorm2d)\n",
       "      (relu_s1): RecursiveScriptModule(original_name=ReLU)\n",
       "    )\n",
       "  )\n",
       "  (stage5d): RecursiveScriptModule(\n",
       "    original_name=RSU4F\n",
       "    (rebnconvin): RecursiveScriptModule(\n",
       "      original_name=REBNCONV\n",
       "      (conv_s1): RecursiveScriptModule(original_name=Conv2d)\n",
       "      (bn_s1): RecursiveScriptModule(original_name=BatchNorm2d)\n",
       "      (relu_s1): RecursiveScriptModule(original_name=ReLU)\n",
       "    )\n",
       "    (rebnconv1): RecursiveScriptModule(\n",
       "      original_name=REBNCONV\n",
       "      (conv_s1): RecursiveScriptModule(original_name=Conv2d)\n",
       "      (bn_s1): RecursiveScriptModule(original_name=BatchNorm2d)\n",
       "      (relu_s1): RecursiveScriptModule(original_name=ReLU)\n",
       "    )\n",
       "    (rebnconv2): RecursiveScriptModule(\n",
       "      original_name=REBNCONV\n",
       "      (conv_s1): RecursiveScriptModule(original_name=Conv2d)\n",
       "      (bn_s1): RecursiveScriptModule(original_name=BatchNorm2d)\n",
       "      (relu_s1): RecursiveScriptModule(original_name=ReLU)\n",
       "    )\n",
       "    (rebnconv3): RecursiveScriptModule(\n",
       "      original_name=REBNCONV\n",
       "      (conv_s1): RecursiveScriptModule(original_name=Conv2d)\n",
       "      (bn_s1): RecursiveScriptModule(original_name=BatchNorm2d)\n",
       "      (relu_s1): RecursiveScriptModule(original_name=ReLU)\n",
       "    )\n",
       "    (rebnconv4): RecursiveScriptModule(\n",
       "      original_name=REBNCONV\n",
       "      (conv_s1): RecursiveScriptModule(original_name=Conv2d)\n",
       "      (bn_s1): RecursiveScriptModule(original_name=BatchNorm2d)\n",
       "      (relu_s1): RecursiveScriptModule(original_name=ReLU)\n",
       "    )\n",
       "    (rebnconv3d): RecursiveScriptModule(\n",
       "      original_name=REBNCONV\n",
       "      (conv_s1): RecursiveScriptModule(original_name=Conv2d)\n",
       "      (bn_s1): RecursiveScriptModule(original_name=BatchNorm2d)\n",
       "      (relu_s1): RecursiveScriptModule(original_name=ReLU)\n",
       "    )\n",
       "    (rebnconv2d): RecursiveScriptModule(\n",
       "      original_name=REBNCONV\n",
       "      (conv_s1): RecursiveScriptModule(original_name=Conv2d)\n",
       "      (bn_s1): RecursiveScriptModule(original_name=BatchNorm2d)\n",
       "      (relu_s1): RecursiveScriptModule(original_name=ReLU)\n",
       "    )\n",
       "    (rebnconv1d): RecursiveScriptModule(\n",
       "      original_name=REBNCONV\n",
       "      (conv_s1): RecursiveScriptModule(original_name=Conv2d)\n",
       "      (bn_s1): RecursiveScriptModule(original_name=BatchNorm2d)\n",
       "      (relu_s1): RecursiveScriptModule(original_name=ReLU)\n",
       "    )\n",
       "  )\n",
       "  (stage4d): RecursiveScriptModule(\n",
       "    original_name=RSU4\n",
       "    (rebnconvin): RecursiveScriptModule(\n",
       "      original_name=REBNCONV\n",
       "      (conv_s1): RecursiveScriptModule(original_name=Conv2d)\n",
       "      (bn_s1): RecursiveScriptModule(original_name=BatchNorm2d)\n",
       "      (relu_s1): RecursiveScriptModule(original_name=ReLU)\n",
       "    )\n",
       "    (rebnconv1): RecursiveScriptModule(\n",
       "      original_name=REBNCONV\n",
       "      (conv_s1): RecursiveScriptModule(original_name=Conv2d)\n",
       "      (bn_s1): RecursiveScriptModule(original_name=BatchNorm2d)\n",
       "      (relu_s1): RecursiveScriptModule(original_name=ReLU)\n",
       "    )\n",
       "    (pool1): RecursiveScriptModule(original_name=MaxPool2d)\n",
       "    (rebnconv2): RecursiveScriptModule(\n",
       "      original_name=REBNCONV\n",
       "      (conv_s1): RecursiveScriptModule(original_name=Conv2d)\n",
       "      (bn_s1): RecursiveScriptModule(original_name=BatchNorm2d)\n",
       "      (relu_s1): RecursiveScriptModule(original_name=ReLU)\n",
       "    )\n",
       "    (pool2): RecursiveScriptModule(original_name=MaxPool2d)\n",
       "    (rebnconv3): RecursiveScriptModule(\n",
       "      original_name=REBNCONV\n",
       "      (conv_s1): RecursiveScriptModule(original_name=Conv2d)\n",
       "      (bn_s1): RecursiveScriptModule(original_name=BatchNorm2d)\n",
       "      (relu_s1): RecursiveScriptModule(original_name=ReLU)\n",
       "    )\n",
       "    (rebnconv4): RecursiveScriptModule(\n",
       "      original_name=REBNCONV\n",
       "      (conv_s1): RecursiveScriptModule(original_name=Conv2d)\n",
       "      (bn_s1): RecursiveScriptModule(original_name=BatchNorm2d)\n",
       "      (relu_s1): RecursiveScriptModule(original_name=ReLU)\n",
       "    )\n",
       "    (rebnconv3d): RecursiveScriptModule(\n",
       "      original_name=REBNCONV\n",
       "      (conv_s1): RecursiveScriptModule(original_name=Conv2d)\n",
       "      (bn_s1): RecursiveScriptModule(original_name=BatchNorm2d)\n",
       "      (relu_s1): RecursiveScriptModule(original_name=ReLU)\n",
       "    )\n",
       "    (rebnconv2d): RecursiveScriptModule(\n",
       "      original_name=REBNCONV\n",
       "      (conv_s1): RecursiveScriptModule(original_name=Conv2d)\n",
       "      (bn_s1): RecursiveScriptModule(original_name=BatchNorm2d)\n",
       "      (relu_s1): RecursiveScriptModule(original_name=ReLU)\n",
       "    )\n",
       "    (rebnconv1d): RecursiveScriptModule(\n",
       "      original_name=REBNCONV\n",
       "      (conv_s1): RecursiveScriptModule(original_name=Conv2d)\n",
       "      (bn_s1): RecursiveScriptModule(original_name=BatchNorm2d)\n",
       "      (relu_s1): RecursiveScriptModule(original_name=ReLU)\n",
       "    )\n",
       "    (upscore2): RecursiveScriptModule(original_name=Upsample)\n",
       "  )\n",
       "  (stage3d): RecursiveScriptModule(\n",
       "    original_name=RSU5\n",
       "    (rebnconvin): RecursiveScriptModule(\n",
       "      original_name=REBNCONV\n",
       "      (conv_s1): RecursiveScriptModule(original_name=Conv2d)\n",
       "      (bn_s1): RecursiveScriptModule(original_name=BatchNorm2d)\n",
       "      (relu_s1): RecursiveScriptModule(original_name=ReLU)\n",
       "    )\n",
       "    (rebnconv1): RecursiveScriptModule(\n",
       "      original_name=REBNCONV\n",
       "      (conv_s1): RecursiveScriptModule(original_name=Conv2d)\n",
       "      (bn_s1): RecursiveScriptModule(original_name=BatchNorm2d)\n",
       "      (relu_s1): RecursiveScriptModule(original_name=ReLU)\n",
       "    )\n",
       "    (pool1): RecursiveScriptModule(original_name=MaxPool2d)\n",
       "    (rebnconv2): RecursiveScriptModule(\n",
       "      original_name=REBNCONV\n",
       "      (conv_s1): RecursiveScriptModule(original_name=Conv2d)\n",
       "      (bn_s1): RecursiveScriptModule(original_name=BatchNorm2d)\n",
       "      (relu_s1): RecursiveScriptModule(original_name=ReLU)\n",
       "    )\n",
       "    (pool2): RecursiveScriptModule(original_name=MaxPool2d)\n",
       "    (rebnconv3): RecursiveScriptModule(\n",
       "      original_name=REBNCONV\n",
       "      (conv_s1): RecursiveScriptModule(original_name=Conv2d)\n",
       "      (bn_s1): RecursiveScriptModule(original_name=BatchNorm2d)\n",
       "      (relu_s1): RecursiveScriptModule(original_name=ReLU)\n",
       "    )\n",
       "    (pool3): RecursiveScriptModule(original_name=MaxPool2d)\n",
       "    (rebnconv4): RecursiveScriptModule(\n",
       "      original_name=REBNCONV\n",
       "      (conv_s1): RecursiveScriptModule(original_name=Conv2d)\n",
       "      (bn_s1): RecursiveScriptModule(original_name=BatchNorm2d)\n",
       "      (relu_s1): RecursiveScriptModule(original_name=ReLU)\n",
       "    )\n",
       "    (rebnconv5): RecursiveScriptModule(\n",
       "      original_name=REBNCONV\n",
       "      (conv_s1): RecursiveScriptModule(original_name=Conv2d)\n",
       "      (bn_s1): RecursiveScriptModule(original_name=BatchNorm2d)\n",
       "      (relu_s1): RecursiveScriptModule(original_name=ReLU)\n",
       "    )\n",
       "    (rebnconv4d): RecursiveScriptModule(\n",
       "      original_name=REBNCONV\n",
       "      (conv_s1): RecursiveScriptModule(original_name=Conv2d)\n",
       "      (bn_s1): RecursiveScriptModule(original_name=BatchNorm2d)\n",
       "      (relu_s1): RecursiveScriptModule(original_name=ReLU)\n",
       "    )\n",
       "    (rebnconv3d): RecursiveScriptModule(\n",
       "      original_name=REBNCONV\n",
       "      (conv_s1): RecursiveScriptModule(original_name=Conv2d)\n",
       "      (bn_s1): RecursiveScriptModule(original_name=BatchNorm2d)\n",
       "      (relu_s1): RecursiveScriptModule(original_name=ReLU)\n",
       "    )\n",
       "    (rebnconv2d): RecursiveScriptModule(\n",
       "      original_name=REBNCONV\n",
       "      (conv_s1): RecursiveScriptModule(original_name=Conv2d)\n",
       "      (bn_s1): RecursiveScriptModule(original_name=BatchNorm2d)\n",
       "      (relu_s1): RecursiveScriptModule(original_name=ReLU)\n",
       "    )\n",
       "    (rebnconv1d): RecursiveScriptModule(\n",
       "      original_name=REBNCONV\n",
       "      (conv_s1): RecursiveScriptModule(original_name=Conv2d)\n",
       "      (bn_s1): RecursiveScriptModule(original_name=BatchNorm2d)\n",
       "      (relu_s1): RecursiveScriptModule(original_name=ReLU)\n",
       "    )\n",
       "    (upscore2): RecursiveScriptModule(original_name=Upsample)\n",
       "  )\n",
       "  (stage2d): RecursiveScriptModule(\n",
       "    original_name=RSU6\n",
       "    (rebnconvin): RecursiveScriptModule(\n",
       "      original_name=REBNCONV\n",
       "      (conv_s1): RecursiveScriptModule(original_name=Conv2d)\n",
       "      (bn_s1): RecursiveScriptModule(original_name=BatchNorm2d)\n",
       "      (relu_s1): RecursiveScriptModule(original_name=ReLU)\n",
       "    )\n",
       "    (rebnconv1): RecursiveScriptModule(\n",
       "      original_name=REBNCONV\n",
       "      (conv_s1): RecursiveScriptModule(original_name=Conv2d)\n",
       "      (bn_s1): RecursiveScriptModule(original_name=BatchNorm2d)\n",
       "      (relu_s1): RecursiveScriptModule(original_name=ReLU)\n",
       "    )\n",
       "    (pool1): RecursiveScriptModule(original_name=MaxPool2d)\n",
       "    (rebnconv2): RecursiveScriptModule(\n",
       "      original_name=REBNCONV\n",
       "      (conv_s1): RecursiveScriptModule(original_name=Conv2d)\n",
       "      (bn_s1): RecursiveScriptModule(original_name=BatchNorm2d)\n",
       "      (relu_s1): RecursiveScriptModule(original_name=ReLU)\n",
       "    )\n",
       "    (pool2): RecursiveScriptModule(original_name=MaxPool2d)\n",
       "    (rebnconv3): RecursiveScriptModule(\n",
       "      original_name=REBNCONV\n",
       "      (conv_s1): RecursiveScriptModule(original_name=Conv2d)\n",
       "      (bn_s1): RecursiveScriptModule(original_name=BatchNorm2d)\n",
       "      (relu_s1): RecursiveScriptModule(original_name=ReLU)\n",
       "    )\n",
       "    (pool3): RecursiveScriptModule(original_name=MaxPool2d)\n",
       "    (rebnconv4): RecursiveScriptModule(\n",
       "      original_name=REBNCONV\n",
       "      (conv_s1): RecursiveScriptModule(original_name=Conv2d)\n",
       "      (bn_s1): RecursiveScriptModule(original_name=BatchNorm2d)\n",
       "      (relu_s1): RecursiveScriptModule(original_name=ReLU)\n",
       "    )\n",
       "    (pool4): RecursiveScriptModule(original_name=MaxPool2d)\n",
       "    (rebnconv5): RecursiveScriptModule(\n",
       "      original_name=REBNCONV\n",
       "      (conv_s1): RecursiveScriptModule(original_name=Conv2d)\n",
       "      (bn_s1): RecursiveScriptModule(original_name=BatchNorm2d)\n",
       "      (relu_s1): RecursiveScriptModule(original_name=ReLU)\n",
       "    )\n",
       "    (rebnconv6): RecursiveScriptModule(\n",
       "      original_name=REBNCONV\n",
       "      (conv_s1): RecursiveScriptModule(original_name=Conv2d)\n",
       "      (bn_s1): RecursiveScriptModule(original_name=BatchNorm2d)\n",
       "      (relu_s1): RecursiveScriptModule(original_name=ReLU)\n",
       "    )\n",
       "    (rebnconv5d): RecursiveScriptModule(\n",
       "      original_name=REBNCONV\n",
       "      (conv_s1): RecursiveScriptModule(original_name=Conv2d)\n",
       "      (bn_s1): RecursiveScriptModule(original_name=BatchNorm2d)\n",
       "      (relu_s1): RecursiveScriptModule(original_name=ReLU)\n",
       "    )\n",
       "    (rebnconv4d): RecursiveScriptModule(\n",
       "      original_name=REBNCONV\n",
       "      (conv_s1): RecursiveScriptModule(original_name=Conv2d)\n",
       "      (bn_s1): RecursiveScriptModule(original_name=BatchNorm2d)\n",
       "      (relu_s1): RecursiveScriptModule(original_name=ReLU)\n",
       "    )\n",
       "    (rebnconv3d): RecursiveScriptModule(\n",
       "      original_name=REBNCONV\n",
       "      (conv_s1): RecursiveScriptModule(original_name=Conv2d)\n",
       "      (bn_s1): RecursiveScriptModule(original_name=BatchNorm2d)\n",
       "      (relu_s1): RecursiveScriptModule(original_name=ReLU)\n",
       "    )\n",
       "    (rebnconv2d): RecursiveScriptModule(\n",
       "      original_name=REBNCONV\n",
       "      (conv_s1): RecursiveScriptModule(original_name=Conv2d)\n",
       "      (bn_s1): RecursiveScriptModule(original_name=BatchNorm2d)\n",
       "      (relu_s1): RecursiveScriptModule(original_name=ReLU)\n",
       "    )\n",
       "    (rebnconv1d): RecursiveScriptModule(\n",
       "      original_name=REBNCONV\n",
       "      (conv_s1): RecursiveScriptModule(original_name=Conv2d)\n",
       "      (bn_s1): RecursiveScriptModule(original_name=BatchNorm2d)\n",
       "      (relu_s1): RecursiveScriptModule(original_name=ReLU)\n",
       "    )\n",
       "    (upscore2): RecursiveScriptModule(original_name=Upsample)\n",
       "  )\n",
       "  (stage1d): RecursiveScriptModule(\n",
       "    original_name=RSU7\n",
       "    (rebnconvin): RecursiveScriptModule(\n",
       "      original_name=REBNCONV\n",
       "      (conv_s1): RecursiveScriptModule(original_name=Conv2d)\n",
       "      (bn_s1): RecursiveScriptModule(original_name=BatchNorm2d)\n",
       "      (relu_s1): RecursiveScriptModule(original_name=ReLU)\n",
       "    )\n",
       "    (rebnconv1): RecursiveScriptModule(\n",
       "      original_name=REBNCONV\n",
       "      (conv_s1): RecursiveScriptModule(original_name=Conv2d)\n",
       "      (bn_s1): RecursiveScriptModule(original_name=BatchNorm2d)\n",
       "      (relu_s1): RecursiveScriptModule(original_name=ReLU)\n",
       "    )\n",
       "    (pool1): RecursiveScriptModule(original_name=MaxPool2d)\n",
       "    (rebnconv2): RecursiveScriptModule(\n",
       "      original_name=REBNCONV\n",
       "      (conv_s1): RecursiveScriptModule(original_name=Conv2d)\n",
       "      (bn_s1): RecursiveScriptModule(original_name=BatchNorm2d)\n",
       "      (relu_s1): RecursiveScriptModule(original_name=ReLU)\n",
       "    )\n",
       "    (pool2): RecursiveScriptModule(original_name=MaxPool2d)\n",
       "    (rebnconv3): RecursiveScriptModule(\n",
       "      original_name=REBNCONV\n",
       "      (conv_s1): RecursiveScriptModule(original_name=Conv2d)\n",
       "      (bn_s1): RecursiveScriptModule(original_name=BatchNorm2d)\n",
       "      (relu_s1): RecursiveScriptModule(original_name=ReLU)\n",
       "    )\n",
       "    (pool3): RecursiveScriptModule(original_name=MaxPool2d)\n",
       "    (rebnconv4): RecursiveScriptModule(\n",
       "      original_name=REBNCONV\n",
       "      (conv_s1): RecursiveScriptModule(original_name=Conv2d)\n",
       "      (bn_s1): RecursiveScriptModule(original_name=BatchNorm2d)\n",
       "      (relu_s1): RecursiveScriptModule(original_name=ReLU)\n",
       "    )\n",
       "    (pool4): RecursiveScriptModule(original_name=MaxPool2d)\n",
       "    (rebnconv5): RecursiveScriptModule(\n",
       "      original_name=REBNCONV\n",
       "      (conv_s1): RecursiveScriptModule(original_name=Conv2d)\n",
       "      (bn_s1): RecursiveScriptModule(original_name=BatchNorm2d)\n",
       "      (relu_s1): RecursiveScriptModule(original_name=ReLU)\n",
       "    )\n",
       "    (pool5): RecursiveScriptModule(original_name=MaxPool2d)\n",
       "    (rebnconv6): RecursiveScriptModule(\n",
       "      original_name=REBNCONV\n",
       "      (conv_s1): RecursiveScriptModule(original_name=Conv2d)\n",
       "      (bn_s1): RecursiveScriptModule(original_name=BatchNorm2d)\n",
       "      (relu_s1): RecursiveScriptModule(original_name=ReLU)\n",
       "    )\n",
       "    (rebnconv7): RecursiveScriptModule(\n",
       "      original_name=REBNCONV\n",
       "      (conv_s1): RecursiveScriptModule(original_name=Conv2d)\n",
       "      (bn_s1): RecursiveScriptModule(original_name=BatchNorm2d)\n",
       "      (relu_s1): RecursiveScriptModule(original_name=ReLU)\n",
       "    )\n",
       "    (rebnconv6d): RecursiveScriptModule(\n",
       "      original_name=REBNCONV\n",
       "      (conv_s1): RecursiveScriptModule(original_name=Conv2d)\n",
       "      (bn_s1): RecursiveScriptModule(original_name=BatchNorm2d)\n",
       "      (relu_s1): RecursiveScriptModule(original_name=ReLU)\n",
       "    )\n",
       "    (rebnconv5d): RecursiveScriptModule(\n",
       "      original_name=REBNCONV\n",
       "      (conv_s1): RecursiveScriptModule(original_name=Conv2d)\n",
       "      (bn_s1): RecursiveScriptModule(original_name=BatchNorm2d)\n",
       "      (relu_s1): RecursiveScriptModule(original_name=ReLU)\n",
       "    )\n",
       "    (rebnconv4d): RecursiveScriptModule(\n",
       "      original_name=REBNCONV\n",
       "      (conv_s1): RecursiveScriptModule(original_name=Conv2d)\n",
       "      (bn_s1): RecursiveScriptModule(original_name=BatchNorm2d)\n",
       "      (relu_s1): RecursiveScriptModule(original_name=ReLU)\n",
       "    )\n",
       "    (rebnconv3d): RecursiveScriptModule(\n",
       "      original_name=REBNCONV\n",
       "      (conv_s1): RecursiveScriptModule(original_name=Conv2d)\n",
       "      (bn_s1): RecursiveScriptModule(original_name=BatchNorm2d)\n",
       "      (relu_s1): RecursiveScriptModule(original_name=ReLU)\n",
       "    )\n",
       "    (rebnconv2d): RecursiveScriptModule(\n",
       "      original_name=REBNCONV\n",
       "      (conv_s1): RecursiveScriptModule(original_name=Conv2d)\n",
       "      (bn_s1): RecursiveScriptModule(original_name=BatchNorm2d)\n",
       "      (relu_s1): RecursiveScriptModule(original_name=ReLU)\n",
       "    )\n",
       "    (rebnconv1d): RecursiveScriptModule(\n",
       "      original_name=REBNCONV\n",
       "      (conv_s1): RecursiveScriptModule(original_name=Conv2d)\n",
       "      (bn_s1): RecursiveScriptModule(original_name=BatchNorm2d)\n",
       "      (relu_s1): RecursiveScriptModule(original_name=ReLU)\n",
       "    )\n",
       "    (upscore2): RecursiveScriptModule(original_name=Upsample)\n",
       "  )\n",
       "  (side1): RecursiveScriptModule(original_name=Conv2d)\n",
       "  (side2): RecursiveScriptModule(original_name=Conv2d)\n",
       "  (side3): RecursiveScriptModule(original_name=Conv2d)\n",
       "  (side4): RecursiveScriptModule(original_name=Conv2d)\n",
       "  (side5): RecursiveScriptModule(original_name=Conv2d)\n",
       "  (side6): RecursiveScriptModule(original_name=Conv2d)\n",
       "  (upscore6): RecursiveScriptModule(original_name=Upsample)\n",
       "  (upscore5): RecursiveScriptModule(original_name=Upsample)\n",
       "  (upscore4): RecursiveScriptModule(original_name=Upsample)\n",
       "  (upscore3): RecursiveScriptModule(original_name=Upsample)\n",
       "  (upscore2): RecursiveScriptModule(original_name=Upsample)\n",
       "  (outconv): RecursiveScriptModule(original_name=Conv2d)\n",
       ")"
      ]
     },
     "execution_count": 3,
     "metadata": {},
     "output_type": "execute_result"
    }
   ],
   "source": [
    "model_path = \"/home/g.racic/sync/removebg_u2netp_192_v1_standalone.pth\"\n",
    "u2netp = torch.jit.load(model_path) \n",
    "u2netp = u2netp.eval()\n",
    "u2netp.to(\"cuda:0\")"
   ]
  },
  {
   "cell_type": "markdown",
   "id": "fc925b20",
   "metadata": {},
   "source": [
    "## Inputs"
   ]
  },
  {
   "cell_type": "code",
   "execution_count": 4,
   "id": "f9db37f6",
   "metadata": {
    "ExecuteTime": {
     "end_time": "2022-01-18T07:01:30.155541Z",
     "start_time": "2022-01-18T07:01:30.153485Z"
    }
   },
   "outputs": [],
   "source": [
    "img_paths = [\n",
    "    \"/home/g.racic/sync/cailimage/pix_images/images/526_95bd2ba559f6b06a26d34e6aa0730a12.jpg\",\n",
    "    \"/home/g.racic/sync/cailimage/pix_images/images/101_dd5783e2de4e0129850c5c347c00b6c4.jpg\",\n",
    "    \"/home/g.racic/sync/cailimage/pix_images/images/102_5673a8240902ac026c2b1faf553b4999.jpg\",\n",
    "    \"/home/g.racic/sync/cailimage/pix_images/images/103_85540ed2f1683e7a89cf5b729e7ae71b.jpg\",\n",
    "    \"/home/g.racic/sync/cailimage/pix_images/images/105_289028da5128a3e7c6882f37590978de.jpg\"\n",
    "]"
   ]
  },
  {
   "cell_type": "code",
   "execution_count": 5,
   "id": "f697b7d6",
   "metadata": {
    "ExecuteTime": {
     "end_time": "2022-01-18T07:01:30.161059Z",
     "start_time": "2022-01-18T07:01:30.156905Z"
    }
   },
   "outputs": [
    {
     "data": {
      "text/plain": [
       "Compose(\n",
       "    Resize(size=(192, 192), interpolation=bilinear, max_size=None, antialias=None)\n",
       "    ToTensor()\n",
       "    Normalize(mean=(0.485, 0.456, 0.406), std=(0.229, 0.224, 0.225))\n",
       ")"
      ]
     },
     "execution_count": 5,
     "metadata": {},
     "output_type": "execute_result"
    }
   ],
   "source": [
    "fts = transforms.Compose(\n",
    "    [transforms.Resize((192, 192)),\n",
    "     transforms.ToTensor(),\n",
    "     transforms.Normalize((.485, .456, .406), (.229, .224, .225))]\n",
    ")\n",
    "fts"
   ]
  },
  {
   "cell_type": "code",
   "execution_count": 6,
   "id": "4e923abc",
   "metadata": {
    "ExecuteTime": {
     "end_time": "2022-01-18T07:01:30.164687Z",
     "start_time": "2022-01-18T07:01:30.162237Z"
    }
   },
   "outputs": [],
   "source": [
    "def preprocess_img(img_path: str):\n",
    "    image = Image.open(img_path)\n",
    "    if image.mode != 'RGB':\n",
    "        image = image.convert('RGB')\n",
    "    return fts(image)"
   ]
  },
  {
   "cell_type": "code",
   "execution_count": 7,
   "id": "87ec56f3",
   "metadata": {
    "ExecuteTime": {
     "end_time": "2022-01-18T07:01:30.261133Z",
     "start_time": "2022-01-18T07:01:30.165823Z"
    }
   },
   "outputs": [
    {
     "data": {
      "text/plain": [
       "torch.Size([5, 3, 192, 192])"
      ]
     },
     "execution_count": 7,
     "metadata": {},
     "output_type": "execute_result"
    }
   ],
   "source": [
    "img_tensors = [preprocess_img(img_path) for img_path in img_paths]\n",
    "img_tensors = torch.stack(img_tensors)\n",
    "img_tensors = img_tensors.to(\"cuda\")\n",
    "img_tensors.shape"
   ]
  },
  {
   "cell_type": "code",
   "execution_count": 8,
   "id": "74bc27e8",
   "metadata": {
    "ExecuteTime": {
     "end_time": "2022-01-18T07:01:35.149240Z",
     "start_time": "2022-01-18T07:01:35.143800Z"
    }
   },
   "outputs": [],
   "source": [
    "def benchmark(model_fn, input_data, batch_size, nwarmup=50, nruns=1000):\n",
    "    _data = itertools.cycle(input_data)\n",
    "    print(\"Warm up ...\")\n",
    "    with torch.no_grad():\n",
    "        for n in range(nwarmup):\n",
    "            model_fn(next(_data))\n",
    "    torch.cuda.synchronize()\n",
    "    print(\"Start timing ...\")\n",
    "    timings = []\n",
    "    with torch.no_grad():\n",
    "        for i in range(1, nruns+1):\n",
    "            start_time = time.time()\n",
    "            model_fn(next(_data))\n",
    "            torch.cuda.synchronize()\n",
    "            end_time = time.time()\n",
    "            timings.append(end_time - start_time)\n",
    "            if i%100==0:\n",
    "                print('Iteration %d/%d, avg batch time %.2f ms'%(i, nruns, np.mean(timings)*1000))\n",
    " \n",
    "    print('Average throughput: %.2f example/second'%(batch_size/np.mean(timings)))"
   ]
  },
  {
   "cell_type": "markdown",
   "id": "897a510b",
   "metadata": {},
   "source": [
    "## ONNX export"
   ]
  },
  {
   "cell_type": "code",
   "execution_count": 9,
   "id": "a67c4462",
   "metadata": {
    "ExecuteTime": {
     "end_time": "2022-01-18T07:01:38.736997Z",
     "start_time": "2022-01-18T07:01:38.731220Z"
    }
   },
   "outputs": [],
   "source": [
    "def convert_to_onnx(\n",
    "    model_pytorch, output_path: str, inputs_pytorch: Dict[str, torch.Tensor], quantization: bool\n",
    ") -> None:\n",
    "    if quantization:\n",
    "        try:\n",
    "            from pytorch_quantization.nn import TensorQuantizer\n",
    "        except ImportError:\n",
    "            raise ImportError(\n",
    "                \"It seems that pytorch-quantization is not yet installed. \"\n",
    "                \"It is required when you enable the quantization flag and use CUDA device.\"\n",
    "                \"Please find installation instructions on \"\n",
    "                \"https://github.com/NVIDIA/TensorRT/tree/master/tools/pytorch-quantization or use:\\n\"\n",
    "                \"pip3 install git+ssh://git@github.com/NVIDIA/TensorRT#egg=pytorch-quantization\\\\&\"\n",
    "                \"subdirectory=tools/pytorch-quantization/\"\n",
    "            )\n",
    "\n",
    "        TensorQuantizer.use_fb_fake_quant = True\n",
    "\n",
    "    dynamic_axis = dict()\n",
    "    for k in inputs_pytorch.keys():\n",
    "        dynamic_axis[k] = {0: \"batch_size\"}\n",
    "    dynamic_axis[\"output\"] = {0: \"batch_size\"}\n",
    "    with torch.no_grad():\n",
    "        torch.onnx.export(\n",
    "            model_pytorch,\n",
    "            args=tuple(inputs_pytorch.values()),\n",
    "            f=output_path,\n",
    "            opset_version=12,\n",
    "            do_constant_folding=True,\n",
    "            input_names=list(inputs_pytorch.keys()),\n",
    "            output_names=[\"output\"],\n",
    "            dynamic_axes=dynamic_axis,\n",
    "            training=torch.onnx.TrainingMode.EVAL,\n",
    "            verbose=False,\n",
    "        )\n",
    "    if quantization:\n",
    "        TensorQuantizer.use_fb_fake_quant = False"
   ]
  },
  {
   "cell_type": "code",
   "execution_count": 10,
   "id": "190d591b",
   "metadata": {
    "ExecuteTime": {
     "end_time": "2022-01-18T07:01:43.341831Z",
     "start_time": "2022-01-18T07:01:43.339439Z"
    }
   },
   "outputs": [],
   "source": [
    "u2netp_onnx_path = \"/home/g.racic/u2netp_onnx.onnx\""
   ]
  },
  {
   "cell_type": "code",
   "execution_count": 11,
   "id": "7dbce3a3",
   "metadata": {
    "ExecuteTime": {
     "end_time": "2022-01-18T07:01:44.054836Z",
     "start_time": "2022-01-18T07:01:44.052489Z"
    }
   },
   "outputs": [],
   "source": [
    "sample_image = {\"image\": img_tensors}"
   ]
  },
  {
   "cell_type": "code",
   "execution_count": 12,
   "id": "551f7187",
   "metadata": {
    "ExecuteTime": {
     "end_time": "2022-01-18T07:01:46.959528Z",
     "start_time": "2022-01-18T07:01:44.449116Z"
    }
   },
   "outputs": [
    {
     "name": "stderr",
     "output_type": "stream",
     "text": [
      "/mnt/nfs/home/g.racic/tensorrt_env/lib64/python3.6/site-packages/torch/onnx/utils.py:356: UserWarning: Model has no forward function\n",
      "  warnings.warn(\"Model has no forward function\")\n"
     ]
    }
   ],
   "source": [
    "convert_to_onnx(u2netp, u2netp_onnx_path, sample_image, False)"
   ]
  },
  {
   "cell_type": "markdown",
   "id": "318523e7",
   "metadata": {},
   "source": [
    "## ONNX inference"
   ]
  },
  {
   "cell_type": "code",
   "execution_count": 13,
   "id": "a2cb15ab",
   "metadata": {
    "ExecuteTime": {
     "end_time": "2022-01-18T07:01:52.518657Z",
     "start_time": "2022-01-18T07:01:52.446390Z"
    }
   },
   "outputs": [
    {
     "name": "stdout",
     "output_type": "stream",
     "text": [
      "The model expects input shape:  ['batch_size', 3, 192, 192]\n"
     ]
    }
   ],
   "source": [
    "sess = InferenceSession(u2netp_onnx_path)\n",
    "print(\"The model expects input shape: \", sess.get_inputs()[0].shape)"
   ]
  },
  {
   "cell_type": "code",
   "execution_count": null,
   "id": "5471dd0e",
   "metadata": {
    "ExecuteTime": {
     "end_time": "2022-01-18T07:01:58.096847Z",
     "start_time": "2022-01-18T07:01:57.936537Z"
    }
   },
   "outputs": [],
   "source": [
    "sess.run(None, {\"image\": img_tensors.cpu().numpy()})\n",
    "# 150 ms ± 456 µs per loop (mean ± std. dev. of 7 runs, 20 loops each)"
   ]
  },
  {
   "cell_type": "code",
   "execution_count": 15,
   "id": "a1e5cb2e",
   "metadata": {
    "ExecuteTime": {
     "end_time": "2022-01-18T07:02:07.185075Z",
     "start_time": "2022-01-18T07:02:07.176712Z"
    }
   },
   "outputs": [],
   "source": [
    "onnx_model = onnx.load(u2netp_onnx_path)"
   ]
  },
  {
   "cell_type": "markdown",
   "id": "ac9e5f2d",
   "metadata": {},
   "source": [
    "## TRT Compilation"
   ]
  },
  {
   "cell_type": "code",
   "execution_count": 16,
   "id": "035ebdcf",
   "metadata": {
    "ExecuteTime": {
     "end_time": "2022-01-18T07:02:15.448431Z",
     "start_time": "2022-01-18T07:02:15.145457Z"
    }
   },
   "outputs": [],
   "source": [
    "trt_logger = trt.Logger(trt.Logger.VERBOSE)\n",
    "runtime = trt.Runtime(trt_logger)"
   ]
  },
  {
   "cell_type": "code",
   "execution_count": 29,
   "id": "e771b4e1",
   "metadata": {
    "ExecuteTime": {
     "end_time": "2022-01-18T07:09:29.755195Z",
     "start_time": "2022-01-18T07:09:29.574866Z"
    }
   },
   "outputs": [
    {
     "name": "stdout",
     "output_type": "stream",
     "text": [
      "Num layers: 371\n",
      "Num inputs: 1\n",
      "Num outputs: 7\n",
      "Nodes in ONNX graph which are not in the network definition: \n",
      "{'Constant_44', 'Constant_24', 'Constant_331', 'Constant_286', 'Constant_280', 'Constant_373', 'Constant_238', 'Constant_39', 'Constant_320', 'Constant_275', 'Constant_87', 'Constant_395', 'Constant_220', 'Constant_72', 'Constant_112', 'Constant_149', 'Constant_122', 'Constant_29', 'Constant_368', 'Constant_34', 'Constant_315', 'Constant_389', 'Constant_117', 'Constant_363', 'Constant_270', 'Constant_386', 'Constant_310', 'Constant_325', 'Constant_243', 'Constant_358', 'Constant_197', 'Constant_82', 'Constant_398', 'Constant_392', 'Constant_144', 'Constant_378', 'Constant_249', 'Constant_77'}\n"
     ]
    }
   ],
   "source": [
    "# Just for debugging purpose\n",
    "with trt.Builder(trt_logger) as builder, \\\n",
    "builder.create_network(\n",
    "    flags=1 << int(trt.NetworkDefinitionCreationFlag.EXPLICIT_BATCH)\n",
    ") as network_definition, \\\n",
    "trt.OnnxParser(network_definition, trt_logger) as parser:\n",
    "    with open(u2netp_onnx_path, \"rb\") as f:\n",
    "        if not parser.parse(f.read()):\n",
    "            print(parser.get_error(0))\n",
    "        else:\n",
    "            print(f\"Num layers: {network_definition.num_layers}\")\n",
    "            print(f\"Num inputs: {network_definition.num_inputs}\")\n",
    "            print(f\"Num outputs: {network_definition.num_outputs}\")\n",
    "            trt_all_nodes = {network_definition.get_layer(n).name for n in range(network_definition.num_layers)}\n",
    "            onnx_all_nodes = {n.name for n in onnx_model.graph.node}\n",
    "            print(\"Nodes in ONNX graph which are not in the network definition: \")\n",
    "            print(onnx_all_nodes - trt_all_nodes)"
   ]
  },
  {
   "cell_type": "code",
   "execution_count": 17,
   "id": "d4898dc3",
   "metadata": {
    "ExecuteTime": {
     "end_time": "2022-01-18T07:02:15.994733Z",
     "start_time": "2022-01-18T07:02:15.992091Z"
    }
   },
   "outputs": [],
   "source": [
    "# Min, optim, max shapes used for TRT optimizer\n",
    "image_tensor_shapes = [(1, 3, 192, 192), (5, 3, 192, 192), (10, 3, 192, 192)]"
   ]
  },
  {
   "cell_type": "code",
   "execution_count": 18,
   "id": "058ccaa6",
   "metadata": {
    "ExecuteTime": {
     "end_time": "2022-01-18T07:02:16.662654Z",
     "start_time": "2022-01-18T07:02:16.660520Z"
    }
   },
   "outputs": [],
   "source": [
    "trt_vit_path = \"/home/g.racic/trt_u2netp3\""
   ]
  },
  {
   "cell_type": "code",
   "execution_count": 19,
   "id": "bbe6723e",
   "metadata": {
    "ExecuteTime": {
     "end_time": "2022-01-18T07:03:52.410950Z",
     "start_time": "2022-01-18T07:02:27.414912Z"
    }
   },
   "outputs": [],
   "source": [
    "engine = build_engine(\n",
    "    runtime=runtime,\n",
    "    onnx_file_path=u2netp_onnx_path,\n",
    "    logger=trt_logger,\n",
    "    min_shape=image_tensor_shapes[0],\n",
    "    optimal_shape=image_tensor_shapes[1],\n",
    "    max_shape=image_tensor_shapes[2],\n",
    "    workspace_size=10000 * 1024 * 1024,\n",
    "    fp16=True,\n",
    "    int8=False\n",
    ")"
   ]
  },
  {
   "cell_type": "code",
   "execution_count": 20,
   "id": "dba22dfd",
   "metadata": {
    "ExecuteTime": {
     "end_time": "2022-01-18T07:04:39.859820Z",
     "start_time": "2022-01-18T07:04:39.766221Z"
    }
   },
   "outputs": [],
   "source": [
    "save_engine(engine=engine, engine_file_path=trt_vit_path)"
   ]
  },
  {
   "cell_type": "markdown",
   "id": "aa41451a",
   "metadata": {},
   "source": [
    "## Throughput comparison"
   ]
  },
  {
   "cell_type": "code",
   "execution_count": 21,
   "id": "ce2fe49f",
   "metadata": {
    "ExecuteTime": {
     "end_time": "2022-01-18T07:04:40.434525Z",
     "start_time": "2022-01-18T07:04:40.418144Z"
    }
   },
   "outputs": [],
   "source": [
    "trt_model = load_engine(\n",
    "    runtime=runtime, engine_file_path=trt_vit_path\n",
    ")"
   ]
  },
  {
   "cell_type": "code",
   "execution_count": 22,
   "id": "f9686710",
   "metadata": {
    "ExecuteTime": {
     "end_time": "2022-01-18T07:04:59.839461Z",
     "start_time": "2022-01-18T07:04:59.836170Z"
    }
   },
   "outputs": [],
   "source": [
    "img_inputs_numpy = [{\"image\": img_tensors.cpu().numpy()}]"
   ]
  },
  {
   "cell_type": "code",
   "execution_count": 23,
   "id": "4406db9f",
   "metadata": {
    "ExecuteTime": {
     "end_time": "2022-01-18T07:05:18.853108Z",
     "start_time": "2022-01-18T07:05:11.097598Z"
    }
   },
   "outputs": [
    {
     "name": "stdout",
     "output_type": "stream",
     "text": [
      "Warm up ...\n",
      "Start timing ...\n",
      "Iteration 100/1000, avg batch time 7.36 ms\n",
      "Iteration 200/1000, avg batch time 7.35 ms\n",
      "Iteration 300/1000, avg batch time 7.35 ms\n",
      "Iteration 400/1000, avg batch time 7.36 ms\n",
      "Iteration 500/1000, avg batch time 7.37 ms\n",
      "Iteration 600/1000, avg batch time 7.37 ms\n",
      "Iteration 700/1000, avg batch time 7.37 ms\n",
      "Iteration 800/1000, avg batch time 7.36 ms\n",
      "Iteration 900/1000, avg batch time 7.36 ms\n",
      "Iteration 1000/1000, avg batch time 7.36 ms\n",
      "Average throughput: 679.41 example/second\n"
     ]
    }
   ],
   "source": [
    "benchmark(trt_model, [img_inputs_numpy[0]], 5)"
   ]
  },
  {
   "cell_type": "code",
   "execution_count": 24,
   "id": "432cd5ed",
   "metadata": {
    "ExecuteTime": {
     "end_time": "2022-01-18T07:05:36.305963Z",
     "start_time": "2022-01-18T07:05:21.132897Z"
    }
   },
   "outputs": [
    {
     "name": "stdout",
     "output_type": "stream",
     "text": [
      "Warm up ...\n",
      "Start timing ...\n",
      "Iteration 100/1000, avg batch time 14.29 ms\n",
      "Iteration 200/1000, avg batch time 14.31 ms\n",
      "Iteration 300/1000, avg batch time 14.30 ms\n",
      "Iteration 400/1000, avg batch time 14.29 ms\n",
      "Iteration 500/1000, avg batch time 14.30 ms\n",
      "Iteration 600/1000, avg batch time 14.29 ms\n",
      "Iteration 700/1000, avg batch time 14.29 ms\n",
      "Iteration 800/1000, avg batch time 14.29 ms\n",
      "Iteration 900/1000, avg batch time 14.29 ms\n",
      "Iteration 1000/1000, avg batch time 14.29 ms\n",
      "Average throughput: 349.87 example/second\n"
     ]
    }
   ],
   "source": [
    "benchmark(u2netp, [img_tensors], 5)"
   ]
  },
  {
   "cell_type": "code",
   "execution_count": 26,
   "id": "2ec389ac",
   "metadata": {
    "ExecuteTime": {
     "end_time": "2022-01-18T07:06:48.674720Z",
     "start_time": "2022-01-18T07:06:04.594985Z"
    }
   },
   "outputs": [],
   "source": [
    "# Compilation with Torch-TensorRT\n",
    "trt_u2netp = torch_tensorrt.compile(u2netp, \n",
    "    inputs= [img_tensors.half()],\n",
    "    enabled_precisions= { torch.half }\n",
    ")"
   ]
  },
  {
   "cell_type": "code",
   "execution_count": 27,
   "id": "de2ca999",
   "metadata": {
    "ExecuteTime": {
     "end_time": "2022-01-18T07:06:57.331113Z",
     "start_time": "2022-01-18T07:06:48.676897Z"
    }
   },
   "outputs": [
    {
     "name": "stdout",
     "output_type": "stream",
     "text": [
      "Warm up ...\n",
      "Start timing ...\n",
      "Iteration 100/1000, avg batch time 8.22 ms\n",
      "Iteration 200/1000, avg batch time 8.22 ms\n",
      "Iteration 300/1000, avg batch time 8.21 ms\n",
      "Iteration 400/1000, avg batch time 8.22 ms\n",
      "Iteration 500/1000, avg batch time 8.22 ms\n",
      "Iteration 600/1000, avg batch time 8.22 ms\n",
      "Iteration 700/1000, avg batch time 8.22 ms\n",
      "Iteration 800/1000, avg batch time 8.22 ms\n",
      "Iteration 900/1000, avg batch time 8.22 ms\n",
      "Iteration 1000/1000, avg batch time 8.22 ms\n",
      "Average throughput: 608.46 example/second\n"
     ]
    }
   ],
   "source": [
    "benchmark(trt_u2netp, [img_tensors.half()], 5)"
   ]
  },
  {
   "cell_type": "code",
   "execution_count": null,
   "id": "69ad8c9b",
   "metadata": {},
   "outputs": [],
   "source": []
  }
 ],
 "metadata": {
  "hide_input": false,
  "kernelspec": {
   "display_name": "tensorrt_env",
   "language": "python",
   "name": "tensorrt_env"
  },
  "language_info": {
   "codemirror_mode": {
    "name": "ipython",
    "version": 3
   },
   "file_extension": ".py",
   "mimetype": "text/x-python",
   "name": "python",
   "nbconvert_exporter": "python",
   "pygments_lexer": "ipython3",
   "version": "3.6.8"
  },
  "toc": {
   "base_numbering": 1,
   "nav_menu": {},
   "number_sections": true,
   "sideBar": true,
   "skip_h1_title": false,
   "title_cell": "Table of Contents",
   "title_sidebar": "Contents",
   "toc_cell": false,
   "toc_position": {},
   "toc_section_display": true,
   "toc_window_display": false
  }
 },
 "nbformat": 4,
 "nbformat_minor": 5
}
